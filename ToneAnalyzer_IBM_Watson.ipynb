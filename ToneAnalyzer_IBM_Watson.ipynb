{
  "nbformat": 4,
  "nbformat_minor": 0,
  "metadata": {
    "colab": {
      "name": "ToneAnalyzer-IBM-Watson.ipynb",
      "provenance": [],
      "toc_visible": true,
      "authorship_tag": "ABX9TyNrJkZsDJZaCJSCwaV67NdQ",
      "include_colab_link": true
    },
    "kernelspec": {
      "name": "python3",
      "display_name": "Python 3"
    },
    "language_info": {
      "name": "python"
    }
  },
  "cells": [
    {
      "cell_type": "markdown",
      "metadata": {
        "id": "view-in-github",
        "colab_type": "text"
      },
      "source": [
        "<a href=\"https://colab.research.google.com/github/tonykipkemboi/ToneAnalyzer-IBM-Watson/blob/main/ToneAnalyzer_IBM_Watson.ipynb\" target=\"_parent\"><img src=\"https://colab.research.google.com/assets/colab-badge.svg\" alt=\"Open In Colab\"/></a>"
      ]
    },
    {
      "cell_type": "markdown",
      "metadata": {
        "id": "2WOZFKGZIHZ0"
      },
      "source": [
        "# Setup Watson Tone Analyzer"
      ]
    },
    {
      "cell_type": "markdown",
      "metadata": {
        "id": "0ib_rvo5LvTz"
      },
      "source": [
        "####Dependencies"
      ]
    },
    {
      "cell_type": "code",
      "metadata": {
        "id": "JEN_a3KbH66x"
      },
      "source": [
        "!pip install ibm_watson"
      ],
      "execution_count": null,
      "outputs": []
    },
    {
      "cell_type": "code",
      "metadata": {
        "id": "ZbjRUfmFMHSZ"
      },
      "source": [
        "from ibm_watson import ToneAnalyzerV3\n",
        "from ibm_cloud_sdk_core.authenticators import IAMAuthenticator"
      ],
      "execution_count": 29,
      "outputs": []
    },
    {
      "cell_type": "markdown",
      "metadata": {
        "id": "tZK2agUMLyOl"
      },
      "source": [
        "####Authenticate"
      ]
    },
    {
      "cell_type": "code",
      "metadata": {
        "id": "hEu9gN0WLs_s"
      },
      "source": [
        "apikey ='TnUOZB1qNCjw03lWcjZwRxvQ8wG8AyHifaMBDB1fo3tV'\n",
        "url ='https://api.us-south.tone-analyzer.watson.cloud.ibm.com/instances/598b9a71-fb4c-4377-9109-1c3a6da51e55'"
      ],
      "execution_count": 30,
      "outputs": []
    },
    {
      "cell_type": "code",
      "metadata": {
        "id": "bvassGU6MD72"
      },
      "source": [
        "authenticator = IAMAuthenticator(apikey)\n",
        "ta = ToneAnalyzerV3(version='2017-09-21', authenticator=authenticator)\n",
        "ta.set_service_url(url)"
      ],
      "execution_count": 31,
      "outputs": []
    },
    {
      "cell_type": "markdown",
      "metadata": {
        "id": "cCdDkLvgINXW"
      },
      "source": [
        "# Analyze Tone from a Sentence"
      ]
    },
    {
      "cell_type": "code",
      "metadata": {
        "id": "urcWw0O9ISxJ"
      },
      "source": [
        "t1 = ta.tone('I am super pumped!').get_result()"
      ],
      "execution_count": 32,
      "outputs": []
    },
    {
      "cell_type": "code",
      "metadata": {
        "colab": {
          "base_uri": "https://localhost:8080/"
        },
        "id": "V6uJ_91wOAfu",
        "outputId": "8cec0e9f-dc1a-45c7-a15f-8f145cfeba6d"
      },
      "source": [
        "t1"
      ],
      "execution_count": 33,
      "outputs": [
        {
          "output_type": "execute_result",
          "data": {
            "text/plain": [
              "{'document_tone': {'tones': [{'score': 0.728876,\n",
              "    'tone_id': 'joy',\n",
              "    'tone_name': 'Joy'}]}}"
            ]
          },
          "metadata": {
            "tags": []
          },
          "execution_count": 33
        }
      ]
    },
    {
      "cell_type": "code",
      "metadata": {
        "id": "uVQzWYK4OJ-L"
      },
      "source": [
        "t2 = ta.tone('ah shit!').get_result()"
      ],
      "execution_count": 34,
      "outputs": []
    },
    {
      "cell_type": "code",
      "metadata": {
        "colab": {
          "base_uri": "https://localhost:8080/"
        },
        "id": "fAshP165OSto",
        "outputId": "51146f5c-c4ac-4e2e-8316-89d543378958"
      },
      "source": [
        "t2"
      ],
      "execution_count": 35,
      "outputs": [
        {
          "output_type": "execute_result",
          "data": {
            "text/plain": [
              "{'document_tone': {'tones': [{'score': 0.905441,\n",
              "    'tone_id': 'anger',\n",
              "    'tone_name': 'Anger'}]}}"
            ]
          },
          "metadata": {
            "tags": []
          },
          "execution_count": 35
        }
      ]
    },
    {
      "cell_type": "markdown",
      "metadata": {
        "id": "7wmnIu2YITF7"
      },
      "source": [
        "# Analyze Chat Tone"
      ]
    },
    {
      "cell_type": "code",
      "metadata": {
        "id": "1hSiH1y1IXp6"
      },
      "source": [
        "chat = [\n",
        "        {\n",
        "            \"text\":\"I feel great, it's sunny outside, and I've got all my work done.\",\n",
        "         \"user\":\"He who shall not be named\"\n",
        "        },\n",
        "        {\n",
        "            \"text\":\"This sucks, I have like 500 hundred hours more coding to do. This is going to take all weekend\",\n",
        "         \"user\":\"Nick\"\n",
        "        }\n",
        "]"
      ],
      "execution_count": 42,
      "outputs": []
    },
    {
      "cell_type": "code",
      "metadata": {
        "id": "WRV-w1wCOhrP"
      },
      "source": [
        "c1 = ta.tone_chat(chat).get_result()"
      ],
      "execution_count": 43,
      "outputs": []
    },
    {
      "cell_type": "code",
      "metadata": {
        "colab": {
          "base_uri": "https://localhost:8080/"
        },
        "id": "xnBhEHzcOqUr",
        "outputId": "0529bdf1-271a-405d-d49c-a7391982cda5"
      },
      "source": [
        "c1"
      ],
      "execution_count": 44,
      "outputs": [
        {
          "output_type": "execute_result",
          "data": {
            "text/plain": [
              "{'utterances_tone': [{'tones': [{'score': 0.81063,\n",
              "     'tone_id': 'excited',\n",
              "     'tone_name': 'Excited'}],\n",
              "   'utterance_id': 0,\n",
              "   'utterance_text': \"I feel great, it's sunny outside, and I've got all my work done.\"},\n",
              "  {'tones': [{'score': 0.624277,\n",
              "     'tone_id': 'frustrated',\n",
              "     'tone_name': 'Frustrated'},\n",
              "    {'score': 0.788803, 'tone_id': 'impolite', 'tone_name': 'Impolite'},\n",
              "    {'score': 0.643228, 'tone_id': 'sad', 'tone_name': 'Sad'}],\n",
              "   'utterance_id': 1,\n",
              "   'utterance_text': 'This sucks, I have like 500 hundred hours more coding to do. This is going to take all weekend'}]}"
            ]
          },
          "metadata": {
            "tags": []
          },
          "execution_count": 44
        }
      ]
    }
  ]
}